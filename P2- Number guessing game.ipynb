{
 "cells": [
  {
   "cell_type": "code",
   "execution_count": 1,
   "id": "6d5fd241",
   "metadata": {},
   "outputs": [
    {
     "name": "stdout",
     "output_type": "stream",
     "text": [
      "Number Guessing Game\n",
      "Type a Number: 10\n",
      "Make a Guess: 5\n",
      "You were below the Number!!!\n",
      "Make a Guess: 6\n",
      "You were below the Number!!!\n",
      "Make a Guess: 8\n",
      "You were below the Number!!!\n",
      "Make a Guess: 10\n",
      "You were above the Number!!!\n",
      "Make a Guess: 9\n",
      "You Got it!!!\n",
      "You got it in 5 Guesses\n"
     ]
    }
   ],
   "source": [
    "import random\n",
    "guess=0\n",
    "\n",
    "print(\"Number Guessing Game\")\n",
    "\n",
    "top_of_range=input(\"Type a Number: \")\n",
    "\n",
    "if top_of_range.isdigit():  #check for Entered values is digit or not.\n",
    "    top_of_range=int(top_of_range) #convert it to integer\n",
    "    \n",
    "    if top_of_range <= 0:\n",
    "        print(\"Please Enter Number Greater than 0\")\n",
    "        quit()\n",
    "randomnum= random.randint(-10,top_of_range)\n",
    "\n",
    "# Take Guesses from User \n",
    "while True: \n",
    "    guess+=1\n",
    "    user_guess=input(\"Make a Guess: \")\n",
    "    if user_guess.isdigit():\n",
    "        user_guess=int(user_guess)\n",
    "    else:\n",
    "        print(\"Please type a number\")\n",
    "        continue\n",
    "    \n",
    "    if user_guess == randomnum:\n",
    "        print(\"You Got it!!!\")\n",
    "        break\n",
    "    elif user_guess > randomnum: \n",
    "            print(\"You were above the Number!!!\")\n",
    "    else:\n",
    "            print(\"You were below the Number!!!\")\n",
    "        \n",
    "print(\"You got it in\",guess,\"Guesses\")\n",
    "    "
   ]
  },
  {
   "cell_type": "code",
   "execution_count": null,
   "id": "d5d785d0",
   "metadata": {},
   "outputs": [],
   "source": []
  }
 ],
 "metadata": {
  "kernelspec": {
   "display_name": "Python 3 (ipykernel)",
   "language": "python",
   "name": "python3"
  },
  "language_info": {
   "codemirror_mode": {
    "name": "ipython",
    "version": 3
   },
   "file_extension": ".py",
   "mimetype": "text/x-python",
   "name": "python",
   "nbconvert_exporter": "python",
   "pygments_lexer": "ipython3",
   "version": "3.9.7"
  }
 },
 "nbformat": 4,
 "nbformat_minor": 5
}
