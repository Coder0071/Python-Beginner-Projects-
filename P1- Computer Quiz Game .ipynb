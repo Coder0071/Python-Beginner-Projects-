{
 "cells": [
  {
   "cell_type": "code",
   "execution_count": 1,
   "id": "83668372",
   "metadata": {},
   "outputs": [
    {
     "name": "stdout",
     "output_type": "stream",
     "text": [
      "Welcome to Computer Quiz!\n",
      "Enter your Name: Sourabh\n",
      "Hello, Do you like to take a Quiz? Yes\n",
      "Great! Let's Play Quiz! 😊\n",
      "What does CPU stands for? Central Processing Unit\n",
      "correct ✔\n",
      "What does GPU stands for? Graphic Processing Unit\n",
      "correct ✔\n",
      "What does RAM stands for? Random Access Memory\n",
      "correct ✔\n",
      "What does PSU stands for? Power Supply Unit\n",
      "correct ✔\n",
      "SourabhYour total score is100.0\n"
     ]
    }
   ],
   "source": [
    "print(\"Welcome to Computer Quiz!\")\n",
    "\n",
    "name = input(\"Enter your Name: \")\n",
    "score = 0\n",
    "\n",
    "\n",
    "play=input(\"Hello, Do you like to take a Quiz? \")\n",
    "if play.lower()!=\"yes\":\n",
    "    quit()\n",
    "else:\n",
    "    print(\"Great! Let's Play Quiz! 😊\")\n",
    "\n",
    "answer= input(\"What does CPU stands for? \")\n",
    "if answer.lower()==\"central processing unit\":\n",
    "    print(\"correct ✔\")\n",
    "    score+=1\n",
    "else:\n",
    "    print(\"Incorrect ❌\")\n",
    "\n",
    "answer= input(\"What does GPU stands for? \")\n",
    "if answer.lower()==\"graphic processing unit\":\n",
    "    print(\"correct ✔\")\n",
    "    score+=1\n",
    "else:\n",
    "    print(\"Incorrect ❌\")\n",
    "\n",
    "answer= input(\"What does RAM stands for? \")\n",
    "if answer.lower()==\"random access memory\":\n",
    "    print(\"correct ✔\")\n",
    "    score+=1\n",
    "else:\n",
    "    print(\"Incorrect ❌\")\n",
    "\n",
    "\n",
    "answer= input(\"What does PSU stands for? \")\n",
    "if answer.lower()==\"power supply unit\":\n",
    "    print(\"correct ✔\")\n",
    "    score+=1\n",
    "else:\n",
    "    print(\"Incorrect ❌\")\n",
    "\n",
    "\n",
    "print(str(name)+\" \"+\"Your total score is\"+\" \"+str((score/4)*100))\n"
   ]
  }
 ],
 "metadata": {
  "kernelspec": {
   "display_name": "Python 3 (ipykernel)",
   "language": "python",
   "name": "python3"
  },
  "language_info": {
   "codemirror_mode": {
    "name": "ipython",
    "version": 3
   },
   "file_extension": ".py",
   "mimetype": "text/x-python",
   "name": "python",
   "nbconvert_exporter": "python",
   "pygments_lexer": "ipython3",
   "version": "3.9.7"
  }
 },
 "nbformat": 4,
 "nbformat_minor": 5
}
