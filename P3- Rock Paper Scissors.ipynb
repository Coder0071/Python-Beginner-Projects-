{
 "cells": [
  {
   "cell_type": "code",
   "execution_count": 8,
   "id": "11977d53",
   "metadata": {},
   "outputs": [
    {
     "name": "stdout",
     "output_type": "stream",
     "text": [
      "Type Rock/Paper/Scissors or Q to Quit: rock\n",
      "Computer Picked rock.\n",
      "You Lost\n",
      "Type Rock/Paper/Scissors or Q to Quit: Paper\n",
      "Computer Picked scissor.\n",
      "You Lost\n",
      "Type Rock/Paper/Scissors or Q to Quit: Scissor\n",
      "Computer Picked scissor.\n",
      "You Lost\n",
      "Type Rock/Paper/Scissors or Q to Quit: Paper\n",
      "Computer Picked paper.\n",
      "You Lost\n",
      "Type Rock/Paper/Scissors or Q to Quit: Rock\n",
      "Computer Picked scissor.\n",
      "You Won\n",
      "Type Rock/Paper/Scissors or Q to Quit: Rock\n",
      "Computer Picked paper.\n",
      "You Lost\n",
      "Type Rock/Paper/Scissors or Q to Quit: Paper\n",
      "Computer Picked scissor.\n",
      "You Lost\n",
      "Type Rock/Paper/Scissors or Q to Quit: Scissor\n",
      "Computer Picked paper.\n",
      "You Won\n",
      "Type Rock/Paper/Scissors or Q to Quit: q\n",
      "You Won!!! 2 Times\n",
      "computer Won!!! 6 Times\n",
      "GoodBye!!!\n"
     ]
    }
   ],
   "source": [
    "# import random\n",
    "\n",
    "user_wins=0\n",
    "computer_wins=0\n",
    "options= [\"rock\",\"paper\", \"scissor\"]\n",
    "\n",
    "while True:\n",
    "    user_input=input(\"Type Rock/Paper/Scissors or Q to Quit: \").lower()\n",
    "    if user_input==\"q\":\n",
    "        break\n",
    "    if user_input not in options:\n",
    "        continue\n",
    "        \n",
    "    random_num= random.randint(0,2)\n",
    "    # rock:0 , paper:1, scissor:2\n",
    "    computer_pick=options[random_num]\n",
    "    print(\"Computer Picked\",computer_pick + \".\")\n",
    "    \n",
    "    if user_input == \"rock\" and computer_pick == \"scissor\":\n",
    "        print(\"You Won\")\n",
    "        user_wins+=1\n",
    "    \n",
    "    elif user_input == \"paper\" and computer_pick == \"rock\":\n",
    "        print(\"You Won\")\n",
    "        user_wins+=1\n",
    "      \n",
    "    elif user_input == \"scissor\" and computer_pick == \"paper\":\n",
    "        print(\"You Won\")\n",
    "        user_wins+=1\n",
    "        \n",
    "    else:\n",
    "        print(\"You Lost\")\n",
    "        computer_wins+=1\n",
    "    \n",
    "print(\"You Won!!!\",user_wins,\"Times\")    \n",
    "print(\"computer Won!!!\",computer_wins,\"Times\")    \n",
    "print(\"GoodBye!!!\")"
   ]
  },
  {
   "cell_type": "code",
   "execution_count": null,
   "id": "173244d6",
   "metadata": {},
   "outputs": [],
   "source": []
  }
 ],
 "metadata": {
  "kernelspec": {
   "display_name": "Python 3 (ipykernel)",
   "language": "python",
   "name": "python3"
  },
  "language_info": {
   "codemirror_mode": {
    "name": "ipython",
    "version": 3
   },
   "file_extension": ".py",
   "mimetype": "text/x-python",
   "name": "python",
   "nbconvert_exporter": "python",
   "pygments_lexer": "ipython3",
   "version": "3.9.7"
  }
 },
 "nbformat": 4,
 "nbformat_minor": 5
}
