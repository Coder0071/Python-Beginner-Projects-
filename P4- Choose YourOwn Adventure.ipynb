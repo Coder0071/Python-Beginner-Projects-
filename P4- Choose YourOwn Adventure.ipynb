{
 "cells": [
  {
   "cell_type": "code",
   "execution_count": 20,
   "id": "5a2fa3f1",
   "metadata": {},
   "outputs": [
    {
     "name": "stdout",
     "output_type": "stream",
     "text": [
      "Enter Your Name!SSH\n",
      "Welcome, SSH to this Adventure🤪\n",
      "Your are on dirt road, It has come to an end & You can go Left or Right. Which way would you like to go? right\n",
      "You come to a Bridge!!!, It looks Wobbly, do you cross it or head back (cross/back?) cross\n",
      "You crossed the bridge and meet a stranger. Do you like to talk to them? (yes/no)? yes\n",
      "You talk to stranger they gave you gold, you WIN!!!😎🥇💥\n"
     ]
    }
   ],
   "source": [
    "name= input(\"Enter Your Name!\")\n",
    "print(\"Welcome,\",name,\"to this Adventure🤪\")\n",
    "\n",
    "answer=input(\"Your are on dirt road, It has come to an end & You can go Left or Right. Which way would you like to go? \").lower()\n",
    "\n",
    "if answer == \"left\":\n",
    "    answer= input(\"You come to a river!!!, you can walk around it or you can swim across? \").lower()\n",
    "    \n",
    "    if answer == \"swim\":\n",
    "        print(\"You swam across and were eaten by an alligator 😥\")\n",
    "    elif answer == \"walk\":\n",
    "        print(\"You walked for many miles, ran out of water and you lost game!!!\")     \n",
    "    else:\n",
    "        print(\"Not a valid option, You lose.\")   \n",
    "        \n",
    "elif answer == \"right\":\n",
    "    answer= input(\"You come to a Bridge!!!, It looks Wobbly, do you cross it or head back (cross/back?) \").lower()\n",
    "    \n",
    "    if answer == \"back\":\n",
    "        print(\"You go back and lose.\")\n",
    "    elif answer == \"cross\":\n",
    "        answer=input(\"You crossed the bridge and meet a stranger. Do you like to talk to them? (yes/no)? \")\n",
    "        if answer == \"yes\":\n",
    "            print(\"You talk to stranger they gave you gold, you WIN!!!😎🥇💥\")\n",
    "        elif answer == \"no\":\n",
    "            print(\"You Ignored them!!!\")     \n",
    "        else:\n",
    "            print(\"Not a valid option, You lose.\")   \n",
    "    else:\n",
    "        print(\"Not a valid option, You lose.\")   \n",
    "\n",
    "else:\n",
    "    print(\"Not a valid option, You lose.\")\n"
   ]
  },
  {
   "cell_type": "code",
   "execution_count": null,
   "id": "a5f8ae4e",
   "metadata": {},
   "outputs": [],
   "source": []
  }
 ],
 "metadata": {
  "kernelspec": {
   "display_name": "Python 3 (ipykernel)",
   "language": "python",
   "name": "python3"
  },
  "language_info": {
   "codemirror_mode": {
    "name": "ipython",
    "version": 3
   },
   "file_extension": ".py",
   "mimetype": "text/x-python",
   "name": "python",
   "nbconvert_exporter": "python",
   "pygments_lexer": "ipython3",
   "version": "3.9.7"
  }
 },
 "nbformat": 4,
 "nbformat_minor": 5
}
